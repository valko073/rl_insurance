{
 "cells": [
  {
   "cell_type": "code",
   "execution_count": 43,
   "metadata": {},
   "outputs": [],
   "source": [
    "import pickle\n",
    "import numpy as np\n",
    "import matplotlib.pyplot as plt\n",
    "import pandas as pd"
   ]
  },
  {
   "cell_type": "code",
   "execution_count": 48,
   "metadata": {},
   "outputs": [],
   "source": [
    "with open('logs/outfile-2019-07-05-14-44-59.p', 'rb') as fp:\n",
    "    data= pickle.load(fp)"
   ]
  },
  {
   "cell_type": "code",
   "execution_count": 49,
   "metadata": {},
   "outputs": [],
   "source": [
    "data_df = pd.DataFrame(data, columns=[\"observation\",\"actions\",\"rewards\"])"
   ]
  },
  {
   "cell_type": "code",
   "execution_count": 47,
   "metadata": {},
   "outputs": [
    {
     "data": {
      "text/html": [
       "<div>\n",
       "<style scoped>\n",
       "    .dataframe tbody tr th:only-of-type {\n",
       "        vertical-align: middle;\n",
       "    }\n",
       "\n",
       "    .dataframe tbody tr th {\n",
       "        vertical-align: top;\n",
       "    }\n",
       "\n",
       "    .dataframe thead th {\n",
       "        text-align: right;\n",
       "    }\n",
       "</style>\n",
       "<table border=\"1\" class=\"dataframe\">\n",
       "  <thead>\n",
       "    <tr style=\"text-align: right;\">\n",
       "      <th></th>\n",
       "      <th>observation</th>\n",
       "      <th>actions</th>\n",
       "      <th>rewards</th>\n",
       "    </tr>\n",
       "  </thead>\n",
       "  <tbody>\n",
       "    <tr>\n",
       "      <th>28995</th>\n",
       "      <td>[0.0, 0.0, 0.0, 0.0, 0.0, 0.0, 0.0, 0.0, 0.0, ...</td>\n",
       "      <td>[[0.9993669], 1]</td>\n",
       "      <td>(-0.01, 0.5369895637216954)</td>\n",
       "    </tr>\n",
       "    <tr>\n",
       "      <th>28996</th>\n",
       "      <td>[0.0, 0.0, 0.0, 0.0, 0.0, 0.0, 0.0, 0.0, 0.0, ...</td>\n",
       "      <td>[[0.9993669], 1]</td>\n",
       "      <td>(-0.01, 1.329119594044512)</td>\n",
       "    </tr>\n",
       "    <tr>\n",
       "      <th>28997</th>\n",
       "      <td>[0.0, 0.0, 0.0, 0.0, 0.0, 0.0, 0.0, 0.0, 0.0, ...</td>\n",
       "      <td>[[0.9993669], 1]</td>\n",
       "      <td>(-0.01, -0.914077850102337)</td>\n",
       "    </tr>\n",
       "    <tr>\n",
       "      <th>28998</th>\n",
       "      <td>[0.0, 0.0, 0.0, 0.0, 0.0, 0.0, 0.0, 0.0, 0.0, ...</td>\n",
       "      <td>[[0.9993669], 1]</td>\n",
       "      <td>(-0.01, 0.6593601643538869)</td>\n",
       "    </tr>\n",
       "    <tr>\n",
       "      <th>28999</th>\n",
       "      <td>[0.0, 0.0, 0.0, 0.0, 0.0, 0.0, 0.0, 0.0, 0.0, ...</td>\n",
       "      <td>[[0.99936694], 1]</td>\n",
       "      <td>(-0.01, 1.5048871175197795)</td>\n",
       "    </tr>\n",
       "    <tr>\n",
       "      <th>29000</th>\n",
       "      <td>[0.0, 0.0, 0.0, 0.0, 0.0, 0.0, 0.0, 0.0, 0.0, ...</td>\n",
       "      <td>[[0.9964308], 2]</td>\n",
       "      <td>(0.9864308142662048, -0.06492629385716231)</td>\n",
       "    </tr>\n",
       "    <tr>\n",
       "      <th>29001</th>\n",
       "      <td>[0.0, 0.0, 0.0, 0.0, 0.0, 0.0, 0.0, 0.0, 1.0, ...</td>\n",
       "      <td>[[0.9985902], 2]</td>\n",
       "      <td>(0.9885901713371277, 0.16158138783192633)</td>\n",
       "    </tr>\n",
       "    <tr>\n",
       "      <th>29002</th>\n",
       "      <td>[0.0, 0.0, 0.0, 0.0, 0.0, 0.0, 0.0, 1.0, 1.0, ...</td>\n",
       "      <td>[[0.9989489], 1]</td>\n",
       "      <td>(-0.01, 1.9045992311060687)</td>\n",
       "    </tr>\n",
       "    <tr>\n",
       "      <th>29003</th>\n",
       "      <td>[0.0, 0.0, 0.0, 0.0, 0.0, 0.0, 1.0, 1.0, 0.0, ...</td>\n",
       "      <td>[[0.999012], 2]</td>\n",
       "      <td>(0.9890119934082031, -0.14173317823524623)</td>\n",
       "    </tr>\n",
       "    <tr>\n",
       "      <th>29004</th>\n",
       "      <td>[0.0, 0.0, 0.0, 0.0, 0.0, 1.0, 1.0, 0.0, 1.0, ...</td>\n",
       "      <td>[[0.9992251], 1]</td>\n",
       "      <td>(-0.01, 0.4600409804868858)</td>\n",
       "    </tr>\n",
       "    <tr>\n",
       "      <th>29005</th>\n",
       "      <td>[0.0, 0.0, 0.0, 0.0, 1.0, 1.0, 0.0, 1.0, 0.0, ...</td>\n",
       "      <td>[[0.99930876], 0]</td>\n",
       "      <td>(-0.01, 1.0151718337231648)</td>\n",
       "    </tr>\n",
       "    <tr>\n",
       "      <th>29006</th>\n",
       "      <td>[0.0, 0.0, 0.0, 1.0, 1.0, 0.0, 1.0, 0.0, 0.0, ...</td>\n",
       "      <td>[[0.9992994], 0]</td>\n",
       "      <td>(-0.01, 0.9983055331028934)</td>\n",
       "    </tr>\n",
       "    <tr>\n",
       "      <th>29007</th>\n",
       "      <td>[0.0, 0.0, 1.0, 1.0, 0.0, 1.0, 0.0, 0.0, 0.0, ...</td>\n",
       "      <td>[[0.9993615], 1]</td>\n",
       "      <td>(-0.01, 1.1196144598157378)</td>\n",
       "    </tr>\n",
       "    <tr>\n",
       "      <th>29008</th>\n",
       "      <td>[0.0, 1.0, 1.0, 0.0, 1.0, 0.0, 0.0, 0.0, 0.0, ...</td>\n",
       "      <td>[[0.99942875], 0]</td>\n",
       "      <td>(-0.01, 0.9588282933841258)</td>\n",
       "    </tr>\n",
       "    <tr>\n",
       "      <th>29009</th>\n",
       "      <td>[1.0, 1.0, 0.0, 1.0, 0.0, 0.0, 0.0, 0.0, 0.0, ...</td>\n",
       "      <td>[[0.9994336], 1]</td>\n",
       "      <td>(-0.01, 1.4333406370998398)</td>\n",
       "    </tr>\n",
       "    <tr>\n",
       "      <th>29010</th>\n",
       "      <td>[1.0, 0.0, 1.0, 0.0, 0.0, 0.0, 0.0, 0.0, 0.0, ...</td>\n",
       "      <td>[[0.9995044], 0]</td>\n",
       "      <td>(-0.01, 0.9823200807841068)</td>\n",
       "    </tr>\n",
       "    <tr>\n",
       "      <th>29011</th>\n",
       "      <td>[0.0, 1.0, 0.0, 0.0, 0.0, 0.0, 0.0, 0.0, 0.0, ...</td>\n",
       "      <td>[[0.9994701], 1]</td>\n",
       "      <td>(-0.01, 1.5209709322375056)</td>\n",
       "    </tr>\n",
       "    <tr>\n",
       "      <th>29012</th>\n",
       "      <td>[1.0, 0.0, 0.0, 0.0, 0.0, 0.0, 0.0, 0.0, 0.0, ...</td>\n",
       "      <td>[[0.999404], 0]</td>\n",
       "      <td>(-0.01, 0.9917573615509495)</td>\n",
       "    </tr>\n",
       "    <tr>\n",
       "      <th>29013</th>\n",
       "      <td>[0.0, 0.0, 0.0, 0.0, 0.0, 0.0, 0.0, 0.0, 0.0, ...</td>\n",
       "      <td>[[0.9994323], 0]</td>\n",
       "      <td>(-0.01, 0.9714576133253315)</td>\n",
       "    </tr>\n",
       "    <tr>\n",
       "      <th>29014</th>\n",
       "      <td>[0.0, 0.0, 0.0, 0.0, 0.0, 0.0, 0.0, 0.0, 0.0, ...</td>\n",
       "      <td>[[0.9993671], 0]</td>\n",
       "      <td>(-0.01, 1.0496492488068652)</td>\n",
       "    </tr>\n",
       "    <tr>\n",
       "      <th>29015</th>\n",
       "      <td>[0.0, 0.0, 0.0, 0.0, 0.0, 0.0, 0.0, 0.0, 0.0, ...</td>\n",
       "      <td>[[0.9993671], 0]</td>\n",
       "      <td>(-0.01, 1.0720137279791495)</td>\n",
       "    </tr>\n",
       "    <tr>\n",
       "      <th>29016</th>\n",
       "      <td>[0.0, 0.0, 0.0, 0.0, 0.0, 0.0, 0.0, 0.0, 0.0, ...</td>\n",
       "      <td>[[0.9993671], 0]</td>\n",
       "      <td>(-0.01, 1.115263198083745)</td>\n",
       "    </tr>\n",
       "    <tr>\n",
       "      <th>29017</th>\n",
       "      <td>[0.0, 0.0, 0.0, 0.0, 0.0, 0.0, 0.0, 0.0, 0.0, ...</td>\n",
       "      <td>[[0.9993672], 0]</td>\n",
       "      <td>(-0.01, 0.9255601301392331)</td>\n",
       "    </tr>\n",
       "    <tr>\n",
       "      <th>29018</th>\n",
       "      <td>[0.0, 0.0, 0.0, 0.0, 0.0, 0.0, 0.0, 0.0, 0.0, ...</td>\n",
       "      <td>[[0.9993672], 0]</td>\n",
       "      <td>(-0.01, 1.1070113077588146)</td>\n",
       "    </tr>\n",
       "    <tr>\n",
       "      <th>29019</th>\n",
       "      <td>[0.0, 0.0, 0.0, 0.0, 0.0, 0.0, 0.0, 0.0, 0.0, ...</td>\n",
       "      <td>[[0.9993672], 0]</td>\n",
       "      <td>(-0.01, 1.0778253908718105)</td>\n",
       "    </tr>\n",
       "  </tbody>\n",
       "</table>\n",
       "</div>"
      ],
      "text/plain": [
       "                                             observation            actions  \\\n",
       "28995  [0.0, 0.0, 0.0, 0.0, 0.0, 0.0, 0.0, 0.0, 0.0, ...   [[0.9993669], 1]   \n",
       "28996  [0.0, 0.0, 0.0, 0.0, 0.0, 0.0, 0.0, 0.0, 0.0, ...   [[0.9993669], 1]   \n",
       "28997  [0.0, 0.0, 0.0, 0.0, 0.0, 0.0, 0.0, 0.0, 0.0, ...   [[0.9993669], 1]   \n",
       "28998  [0.0, 0.0, 0.0, 0.0, 0.0, 0.0, 0.0, 0.0, 0.0, ...   [[0.9993669], 1]   \n",
       "28999  [0.0, 0.0, 0.0, 0.0, 0.0, 0.0, 0.0, 0.0, 0.0, ...  [[0.99936694], 1]   \n",
       "29000  [0.0, 0.0, 0.0, 0.0, 0.0, 0.0, 0.0, 0.0, 0.0, ...   [[0.9964308], 2]   \n",
       "29001  [0.0, 0.0, 0.0, 0.0, 0.0, 0.0, 0.0, 0.0, 1.0, ...   [[0.9985902], 2]   \n",
       "29002  [0.0, 0.0, 0.0, 0.0, 0.0, 0.0, 0.0, 1.0, 1.0, ...   [[0.9989489], 1]   \n",
       "29003  [0.0, 0.0, 0.0, 0.0, 0.0, 0.0, 1.0, 1.0, 0.0, ...    [[0.999012], 2]   \n",
       "29004  [0.0, 0.0, 0.0, 0.0, 0.0, 1.0, 1.0, 0.0, 1.0, ...   [[0.9992251], 1]   \n",
       "29005  [0.0, 0.0, 0.0, 0.0, 1.0, 1.0, 0.0, 1.0, 0.0, ...  [[0.99930876], 0]   \n",
       "29006  [0.0, 0.0, 0.0, 1.0, 1.0, 0.0, 1.0, 0.0, 0.0, ...   [[0.9992994], 0]   \n",
       "29007  [0.0, 0.0, 1.0, 1.0, 0.0, 1.0, 0.0, 0.0, 0.0, ...   [[0.9993615], 1]   \n",
       "29008  [0.0, 1.0, 1.0, 0.0, 1.0, 0.0, 0.0, 0.0, 0.0, ...  [[0.99942875], 0]   \n",
       "29009  [1.0, 1.0, 0.0, 1.0, 0.0, 0.0, 0.0, 0.0, 0.0, ...   [[0.9994336], 1]   \n",
       "29010  [1.0, 0.0, 1.0, 0.0, 0.0, 0.0, 0.0, 0.0, 0.0, ...   [[0.9995044], 0]   \n",
       "29011  [0.0, 1.0, 0.0, 0.0, 0.0, 0.0, 0.0, 0.0, 0.0, ...   [[0.9994701], 1]   \n",
       "29012  [1.0, 0.0, 0.0, 0.0, 0.0, 0.0, 0.0, 0.0, 0.0, ...    [[0.999404], 0]   \n",
       "29013  [0.0, 0.0, 0.0, 0.0, 0.0, 0.0, 0.0, 0.0, 0.0, ...   [[0.9994323], 0]   \n",
       "29014  [0.0, 0.0, 0.0, 0.0, 0.0, 0.0, 0.0, 0.0, 0.0, ...   [[0.9993671], 0]   \n",
       "29015  [0.0, 0.0, 0.0, 0.0, 0.0, 0.0, 0.0, 0.0, 0.0, ...   [[0.9993671], 0]   \n",
       "29016  [0.0, 0.0, 0.0, 0.0, 0.0, 0.0, 0.0, 0.0, 0.0, ...   [[0.9993671], 0]   \n",
       "29017  [0.0, 0.0, 0.0, 0.0, 0.0, 0.0, 0.0, 0.0, 0.0, ...   [[0.9993672], 0]   \n",
       "29018  [0.0, 0.0, 0.0, 0.0, 0.0, 0.0, 0.0, 0.0, 0.0, ...   [[0.9993672], 0]   \n",
       "29019  [0.0, 0.0, 0.0, 0.0, 0.0, 0.0, 0.0, 0.0, 0.0, ...   [[0.9993672], 0]   \n",
       "\n",
       "                                          rewards  \n",
       "28995                 (-0.01, 0.5369895637216954)  \n",
       "28996                  (-0.01, 1.329119594044512)  \n",
       "28997                 (-0.01, -0.914077850102337)  \n",
       "28998                 (-0.01, 0.6593601643538869)  \n",
       "28999                 (-0.01, 1.5048871175197795)  \n",
       "29000  (0.9864308142662048, -0.06492629385716231)  \n",
       "29001   (0.9885901713371277, 0.16158138783192633)  \n",
       "29002                 (-0.01, 1.9045992311060687)  \n",
       "29003  (0.9890119934082031, -0.14173317823524623)  \n",
       "29004                 (-0.01, 0.4600409804868858)  \n",
       "29005                 (-0.01, 1.0151718337231648)  \n",
       "29006                 (-0.01, 0.9983055331028934)  \n",
       "29007                 (-0.01, 1.1196144598157378)  \n",
       "29008                 (-0.01, 0.9588282933841258)  \n",
       "29009                 (-0.01, 1.4333406370998398)  \n",
       "29010                 (-0.01, 0.9823200807841068)  \n",
       "29011                 (-0.01, 1.5209709322375056)  \n",
       "29012                 (-0.01, 0.9917573615509495)  \n",
       "29013                 (-0.01, 0.9714576133253315)  \n",
       "29014                 (-0.01, 1.0496492488068652)  \n",
       "29015                 (-0.01, 1.0720137279791495)  \n",
       "29016                  (-0.01, 1.115263198083745)  \n",
       "29017                 (-0.01, 0.9255601301392331)  \n",
       "29018                 (-0.01, 1.1070113077588146)  \n",
       "29019                 (-0.01, 1.0778253908718105)  "
      ]
     },
     "execution_count": 47,
     "metadata": {},
     "output_type": "execute_result"
    }
   ],
   "source": [
    "data_df.iloc[28995:28995+25]"
   ]
  },
  {
   "cell_type": "code",
   "execution_count": 50,
   "metadata": {},
   "outputs": [],
   "source": [
    "rewards = [x[2] for x in data]"
   ]
  },
  {
   "cell_type": "code",
   "execution_count": 51,
   "metadata": {},
   "outputs": [],
   "source": [
    "agent_rewards = sum([x[1] for x in rewards])\n",
    "insurance_rewards = sum([x[0] for x in rewards])"
   ]
  },
  {
   "cell_type": "code",
   "execution_count": 52,
   "metadata": {},
   "outputs": [
    {
     "name": "stdout",
     "output_type": "stream",
     "text": [
      "46871.47731378594 2511.4893167220557\n"
     ]
    }
   ],
   "source": [
    "print(agent_rewards, insurance_rewards)"
   ]
  },
  {
   "cell_type": "code",
   "execution_count": 53,
   "metadata": {},
   "outputs": [],
   "source": [
    "insurance_costs = np.array([x[1][0][0] for x in data])"
   ]
  },
  {
   "cell_type": "code",
   "execution_count": 54,
   "metadata": {},
   "outputs": [
    {
     "data": {
      "text/plain": [
       "-0.28521347"
      ]
     },
     "execution_count": 54,
     "metadata": {},
     "output_type": "execute_result"
    }
   ],
   "source": [
    "min(insurance_costs)"
   ]
  },
  {
   "cell_type": "code",
   "execution_count": 55,
   "metadata": {},
   "outputs": [],
   "source": [
    "ins_ind = np.argsort(insurance_costs)"
   ]
  },
  {
   "cell_type": "code",
   "execution_count": 56,
   "metadata": {},
   "outputs": [],
   "source": [
    "agent_actions = [1 if x[1][1] in [2,3] else 0 for x in data]"
   ]
  },
  {
   "cell_type": "code",
   "execution_count": 57,
   "metadata": {},
   "outputs": [],
   "source": [
    "agent_actions = [x for _,x in sorted(zip(insurance_costs,agent_actions))]"
   ]
  },
  {
   "cell_type": "code",
   "execution_count": 60,
   "metadata": {},
   "outputs": [
    {
     "data": {
      "text/plain": [
       "<matplotlib.collections.PathCollection at 0x1198cb978>"
      ]
     },
     "execution_count": 60,
     "metadata": {},
     "output_type": "execute_result"
    },
    {
     "data": {
      "image/png": "[encoded data removed]",
      "text/plain": [
       "<Figure size 432x288 with 1 Axes>"
      ]
     },
     "metadata": {
      "needs_background": "light"
     },
     "output_type": "display_data"
    }
   ],
   "source": [
    "plt.scatter(sorted(insurance_costs), agent_actions)"
   ]
  },
  {
   "cell_type": "code",
   "execution_count": 61,
   "metadata": {},
   "outputs": [
    {
     "name": "stderr",
     "output_type": "stream",
     "text": [
      "/Users/valentink/anaconda3/envs/rl_insurance/lib/python3.7/site-packages/ipykernel_launcher.py:1: VisibleDeprecationWarning: Passing `normed=True` on non-uniform bins has always been broken, and computes neither the probability density function nor the probability mass function. The result is only correct if the bins are uniform, when density=True will produce the same result anyway. The argument will be removed in a future version of numpy.\n",
      "  \"\"\"Entry point for launching an IPython kernel.\n",
      "/Users/valentink/anaconda3/envs/rl_insurance/lib/python3.7/site-packages/ipykernel_launcher.py:2: DeprecationWarning: Passing normed=False is deprecated, and has no effect. Consider passing the density argument instead.\n",
      "  \n"
     ]
    }
   ],
   "source": [
    "counts, bin_edges = np.histogram(insurance_costs, bins=40, normed=True)\n",
    "ag_counts, ag_edges = np.histogram(agent_actions, bins=40, normed=False)"
   ]
  },
  {
   "cell_type": "code",
   "execution_count": 62,
   "metadata": {},
   "outputs": [],
   "source": [
    "cdf = np.cumsum(counts)"
   ]
  },
  {
   "cell_type": "code",
   "execution_count": 63,
   "metadata": {},
   "outputs": [
    {
     "name": "stderr",
     "output_type": "stream",
     "text": [
      "/Users/valentink/anaconda3/envs/rl_insurance/lib/python3.7/site-packages/ipykernel_launcher.py:5: RuntimeWarning: invalid value encountered in double_scalars\n",
      "  \"\"\"\n"
     ]
    }
   ],
   "source": [
    "thresholds = np.linspace(min(insurance_costs),max(insurance_costs),100)\n",
    "nums_insured =[]\n",
    "for i in range(len(thresholds)-1):\n",
    "    ind = np.array(np.argwhere((thresholds[i]<insurance_costs) & (insurance_costs<thresholds[i+1])))\n",
    "    num_insured = np.sum([agent_actions[j[0]] for j in ind])/len(ind)\n",
    "    nums_insured.append(num_insured)"
   ]
  },
  {
   "cell_type": "code",
   "execution_count": 65,
   "metadata": {},
   "outputs": [
    {
     "data": {
      "text/plain": [
       "Text(0, 0.5, 'Percentage insured actions')"
      ]
     },
     "execution_count": 65,
     "metadata": {},
     "output_type": "execute_result"
    },
    {
     "data": {
      "image/png": "[encoded data removed]",
      "text/plain": [
       "<Figure size 432x288 with 1 Axes>"
      ]
     },
     "metadata": {
      "needs_background": "light"
     },
     "output_type": "display_data"
    }
   ],
   "source": [
    "plt.scatter(thresholds[1:], nums_insured)\n",
    "z=np.polyfit(sorted(insurance_costs), np.array(agent_actions), 1)\n",
    "p = np.poly1d(z)\n",
    "plt.plot(sorted(insurance_costs),p(sorted(insurance_costs)))\n",
    "plt.xlabel(\"Insurance cost\")\n",
    "plt.ylabel(\"Percentage insured actions\")"
   ]
  },
  {
   "cell_type": "code",
   "execution_count": 68,
   "metadata": {},
   "outputs": [
    {
     "data": {
      "text/plain": [
       "Text(0, 0.5, 'Action 1:insured 2:non-insured')"
      ]
     },
     "execution_count": 68,
     "metadata": {},
     "output_type": "execute_result"
    },
    {
     "data": {
      "image/png": "[encoded data removed]",
      "text/plain": [
       "<Figure size 432x288 with 1 Axes>"
      ]
     },
     "metadata": {
      "needs_background": "light"
     },
     "output_type": "display_data"
    }
   ],
   "source": [
    "plt.scatter(sorted(insurance_costs), agent_actions)\n",
    "plt.plot(sorted(insurance_costs),p(sorted(insurance_costs)))\n",
    "plt.title('Actions in relation to insurance cost')\n",
    "plt.xlabel('Insurance cost')\n",
    "plt.ylabel('Action 1:insured 2:non-insured')"
   ]
  },
  {
   "cell_type": "code",
   "execution_count": null,
   "metadata": {},
   "outputs": [],
   "source": []
  }
 ],
 "metadata": {
  "kernelspec": {
   "display_name": "Python 3",
   "language": "python",
   "name": "python3"
  },
  "language_info": {
   "codemirror_mode": {
    "name": "ipython",
    "version": 3
   },
   "file_extension": ".py",
   "mimetype": "text/x-python",
   "name": "python",
   "nbconvert_exporter": "python",
   "pygments_lexer": "ipython3",
   "version": "3.7.3"
  },
  "widgets": {
   "state": {},
   "version": "1.1.2"
  }
 },
 "nbformat": 4,
 "nbformat_minor": 2
}
