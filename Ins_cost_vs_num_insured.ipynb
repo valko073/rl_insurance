{
 "cells": [
  {
   "cell_type": "code",
   "execution_count": 23,
   "metadata": {},
   "outputs": [],
   "source": [
    "import pickle\n",
    "import numpy as np\n",
    "import matplotlib.pyplot as plt\n",
    "import pandas as pd"
   ]
  },
  {
   "cell_type": "code",
   "execution_count": 25,
   "metadata": {},
   "outputs": [],
   "source": [
    "with open('logs/outfile-2019-08-02-15-27-59.p', 'rb') as fp:\n",
    "    data= pickle.load(fp)"
   ]
  },
  {
   "cell_type": "code",
   "execution_count": 26,
   "metadata": {},
   "outputs": [],
   "source": [
    "data_df = pd.DataFrame(data, columns=[\"observation\",\"actions\",\"rewards\"])"
   ]
  },
  {
   "cell_type": "code",
   "execution_count": 27,
   "metadata": {},
   "outputs": [
    {
     "data": {
      "text/html": [
       "<div>\n",
       "<style scoped>\n",
       "    .dataframe tbody tr th:only-of-type {\n",
       "        vertical-align: middle;\n",
       "    }\n",
       "\n",
       "    .dataframe tbody tr th {\n",
       "        vertical-align: top;\n",
       "    }\n",
       "\n",
       "    .dataframe thead th {\n",
       "        text-align: right;\n",
       "    }\n",
       "</style>\n",
       "<table border=\"1\" class=\"dataframe\">\n",
       "  <thead>\n",
       "    <tr style=\"text-align: right;\">\n",
       "      <th></th>\n",
       "      <th>observation</th>\n",
       "      <th>actions</th>\n",
       "      <th>rewards</th>\n",
       "    </tr>\n",
       "  </thead>\n",
       "  <tbody>\n",
       "    <tr>\n",
       "      <th>28995</th>\n",
       "      <td>[[0.0, 0.0, 0.0, 0.0, 0.0, 0.0, 0.0, 0.0, 0.0,...</td>\n",
       "      <td>[[0.9962831], [0.9721805], 0, 0]</td>\n",
       "      <td>(-0.01, -0.01, 1.1030926445790252, 0.948532863...</td>\n",
       "    </tr>\n",
       "    <tr>\n",
       "      <th>28996</th>\n",
       "      <td>[[0.0, 0.0, 0.0, 0.0, 0.0, 0.0, 0.0, 0.0, 0.0,...</td>\n",
       "      <td>[[0.9962832], [0.9722403], 0, 0]</td>\n",
       "      <td>(-0.01, -0.01, 1.0648597749915099, 1.091513229...</td>\n",
       "    </tr>\n",
       "    <tr>\n",
       "      <th>28997</th>\n",
       "      <td>[[0.0, 0.0, 0.0, 0.0, 0.0, 0.0, 0.0, 0.0, 0.0,...</td>\n",
       "      <td>[[0.99628323], [0.9722997], 0, 0]</td>\n",
       "      <td>(-0.01, -0.01, 1.0593344556576763, 1.111573184...</td>\n",
       "    </tr>\n",
       "    <tr>\n",
       "      <th>28998</th>\n",
       "      <td>[[0.0, 0.0, 0.0, 0.0, 0.0, 0.0, 0.0, 0.0, 0.0,...</td>\n",
       "      <td>[[0.9962833], [0.9723587], 0, 0]</td>\n",
       "      <td>(-0.01, -0.01, 0.9422704177769771, 0.910832289...</td>\n",
       "    </tr>\n",
       "    <tr>\n",
       "      <th>28999</th>\n",
       "      <td>[[0.0, 0.0, 0.0, 0.0, 0.0, 0.0, 0.0, 0.0, 0.0,...</td>\n",
       "      <td>[[0.99628335], [0.9724173], 0, 0]</td>\n",
       "      <td>(-0.01, -0.01, 0.9937917896800508, 0.935102751...</td>\n",
       "    </tr>\n",
       "    <tr>\n",
       "      <th>29000</th>\n",
       "      <td>[[0.0, 0.0, 0.0, 0.0, 0.0, 0.0, 0.0, 0.0, 0.0,...</td>\n",
       "      <td>[[0.9890012], [0.51402503], 0, 0]</td>\n",
       "      <td>(-0.01, -0.01, 0.8135337356336352, 1.087240294...</td>\n",
       "    </tr>\n",
       "    <tr>\n",
       "      <th>29001</th>\n",
       "      <td>[[0.0, 0.0, 0.0, 0.0, 0.0, 0.0, 0.0, 0.0, 0.0,...</td>\n",
       "      <td>[[0.9926641], [0.600715], 0, 0]</td>\n",
       "      <td>(-0.01, -0.01, 0.9461173798574248, 1.015075920...</td>\n",
       "    </tr>\n",
       "    <tr>\n",
       "      <th>29002</th>\n",
       "      <td>[[0.0, 0.0, 0.0, 0.0, 0.0, 0.0, 0.0, 0.0, 0.0,...</td>\n",
       "      <td>[[0.9907057], [0.53947], 4, 0]</td>\n",
       "      <td>(-0.01, -0.01, 0.0, 1.0853648797314)</td>\n",
       "    </tr>\n",
       "    <tr>\n",
       "      <th>29003</th>\n",
       "      <td>[[0.0, 0.0, 0.0, 0.0, 0.0, 0.0, 0.0, 0.0, 0.0,...</td>\n",
       "      <td>[[0.99023265], [0.6435784], 0, 0]</td>\n",
       "      <td>(-0.01, -0.01, 0.7968035256457269, 0.976693299...</td>\n",
       "    </tr>\n",
       "    <tr>\n",
       "      <th>29004</th>\n",
       "      <td>[[0.0, 0.0, 0.0, 0.0, 0.0, 0.0, 0.0, 0.0, 0.0,...</td>\n",
       "      <td>[[0.98990405], [0.73555267], 4, 0]</td>\n",
       "      <td>(-0.01, -0.01, 0.0, 0.949714241234619)</td>\n",
       "    </tr>\n",
       "    <tr>\n",
       "      <th>29005</th>\n",
       "      <td>[[0.0, 0.0, 0.0, 0.0, 0.0, 0.0, 0.0, 0.0, 0.0,...</td>\n",
       "      <td>[[0.99102753], [0.7603041], 4, 0]</td>\n",
       "      <td>(-0.01, -0.01, 0.0, 1.1423954901626379)</td>\n",
       "    </tr>\n",
       "    <tr>\n",
       "      <th>29006</th>\n",
       "      <td>[[0.0, 0.0, 0.0, 0.0, 0.0, 0.0, 0.0, 0.0, 0.0,...</td>\n",
       "      <td>[[0.9913375], [0.7880045], 4, 0]</td>\n",
       "      <td>(-0.01, -0.01, 0.0, 1.0351553195791638)</td>\n",
       "    </tr>\n",
       "    <tr>\n",
       "      <th>29007</th>\n",
       "      <td>[[0.0, 0.0, 0.0, 0.0, 0.0, 0.0, 0.0, 0.0, 0.0,...</td>\n",
       "      <td>[[0.99154955], [0.82044643], 4, 0]</td>\n",
       "      <td>(-0.01, -0.01, 0.0, 1.02545389369104)</td>\n",
       "    </tr>\n",
       "    <tr>\n",
       "      <th>29008</th>\n",
       "      <td>[[0.0, 0.0, 0.0, 0.0, 0.0, 0.0, 0.0, 0.0, 0.0,...</td>\n",
       "      <td>[[0.9918764], [0.8388082], 4, 0]</td>\n",
       "      <td>(-0.01, -0.01, 0.0, 0.9970573216129814)</td>\n",
       "    </tr>\n",
       "    <tr>\n",
       "      <th>29009</th>\n",
       "      <td>[[0.0, 0.0, 0.0, 0.0, 0.0, 0.0, 0.0, 0.0, 0.0,...</td>\n",
       "      <td>[[0.9920918], [0.85067075], 4, 0]</td>\n",
       "      <td>(-0.01, -0.01, 0.0, 1.160025275927773)</td>\n",
       "    </tr>\n",
       "    <tr>\n",
       "      <th>29010</th>\n",
       "      <td>[[0.0, 0.0, 0.0, 0.0, 0.0, 0.0, 0.0, 0.0, 0.0,...</td>\n",
       "      <td>[[0.99221283], [0.86119765], 4, 0]</td>\n",
       "      <td>(-0.01, -0.01, 0.0, 0.9791062428431992)</td>\n",
       "    </tr>\n",
       "    <tr>\n",
       "      <th>29011</th>\n",
       "      <td>[[0.0, 0.0, 0.0, 0.0, 0.0, 0.0, 0.0, 0.0, 0.0,...</td>\n",
       "      <td>[[0.99231863], [0.8699027], 4, 0]</td>\n",
       "      <td>(-0.01, -0.01, 0.0, 1.033027773582546)</td>\n",
       "    </tr>\n",
       "    <tr>\n",
       "      <th>29012</th>\n",
       "      <td>[[0.0, 0.0, 0.0, 0.0, 0.0, 0.0, 0.0, 0.0, 0.0,...</td>\n",
       "      <td>[[0.992406], [0.876848], 4, 0]</td>\n",
       "      <td>(-0.01, -0.01, 0.0, 0.9168160348238545)</td>\n",
       "    </tr>\n",
       "    <tr>\n",
       "      <th>29013</th>\n",
       "      <td>[[0.0, 0.0, 0.0, 0.0, 0.0, 0.0, 0.0, 0.0, 0.0,...</td>\n",
       "      <td>[[0.99246764], [0.88281316], 4, 0]</td>\n",
       "      <td>(-0.01, -0.01, 0.0, 1.172551470549961)</td>\n",
       "    </tr>\n",
       "    <tr>\n",
       "      <th>29014</th>\n",
       "      <td>[[0.0, 0.0, 0.0, 0.0, 0.0, 0.0, 0.0, 0.0, 0.0,...</td>\n",
       "      <td>[[0.9925174], [0.88808846], 4, 0]</td>\n",
       "      <td>(-0.01, -0.01, 0.0, 1.081432847256791)</td>\n",
       "    </tr>\n",
       "    <tr>\n",
       "      <th>29015</th>\n",
       "      <td>[[0.0, 0.0, 0.0, 0.0, 0.0, 0.0, 0.0, 0.0, 0.0,...</td>\n",
       "      <td>[[0.9925615], [0.8928015], 4, 0]</td>\n",
       "      <td>(-0.01, -0.01, 0.0, 1.1132415422409363)</td>\n",
       "    </tr>\n",
       "    <tr>\n",
       "      <th>29016</th>\n",
       "      <td>[[0.0, 0.0, 0.0, 0.0, 0.0, 0.0, 0.0, 0.0, 0.0,...</td>\n",
       "      <td>[[0.9926006], [0.89697224], 4, 0]</td>\n",
       "      <td>(-0.01, -0.01, 0.0, 1.0445628098940882)</td>\n",
       "    </tr>\n",
       "    <tr>\n",
       "      <th>29017</th>\n",
       "      <td>[[0.0, 0.0, 0.0, 0.0, 0.0, 0.0, 0.0, 0.0, 0.0,...</td>\n",
       "      <td>[[0.99263597], [0.9005717], 4, 0]</td>\n",
       "      <td>(-0.01, -0.01, 0.0, 1.118675812852028)</td>\n",
       "    </tr>\n",
       "    <tr>\n",
       "      <th>29018</th>\n",
       "      <td>[[0.0, 0.0, 0.0, 0.0, 0.0, 0.0, 0.0, 0.0, 0.0,...</td>\n",
       "      <td>[[0.9926686], [0.9037069], 4, 3]</td>\n",
       "      <td>(0.9826686286926269, -0.01, 0.0, -0.2350385620...</td>\n",
       "    </tr>\n",
       "    <tr>\n",
       "      <th>29019</th>\n",
       "      <td>[[0.0, 0.0, 0.0, 0.0, 0.0, 0.0, 0.0, 0.0, 0.0,...</td>\n",
       "      <td>[[0.99312985], [0.8810312], 4, 0]</td>\n",
       "      <td>(-0.01, -0.01, 0.0, 1.009705409342217)</td>\n",
       "    </tr>\n",
       "  </tbody>\n",
       "</table>\n",
       "</div>"
      ],
      "text/plain": [
       "                                             observation  \\\n",
       "28995  [[0.0, 0.0, 0.0, 0.0, 0.0, 0.0, 0.0, 0.0, 0.0,...   \n",
       "28996  [[0.0, 0.0, 0.0, 0.0, 0.0, 0.0, 0.0, 0.0, 0.0,...   \n",
       "28997  [[0.0, 0.0, 0.0, 0.0, 0.0, 0.0, 0.0, 0.0, 0.0,...   \n",
       "28998  [[0.0, 0.0, 0.0, 0.0, 0.0, 0.0, 0.0, 0.0, 0.0,...   \n",
       "28999  [[0.0, 0.0, 0.0, 0.0, 0.0, 0.0, 0.0, 0.0, 0.0,...   \n",
       "29000  [[0.0, 0.0, 0.0, 0.0, 0.0, 0.0, 0.0, 0.0, 0.0,...   \n",
       "29001  [[0.0, 0.0, 0.0, 0.0, 0.0, 0.0, 0.0, 0.0, 0.0,...   \n",
       "29002  [[0.0, 0.0, 0.0, 0.0, 0.0, 0.0, 0.0, 0.0, 0.0,...   \n",
       "29003  [[0.0, 0.0, 0.0, 0.0, 0.0, 0.0, 0.0, 0.0, 0.0,...   \n",
       "29004  [[0.0, 0.0, 0.0, 0.0, 0.0, 0.0, 0.0, 0.0, 0.0,...   \n",
       "29005  [[0.0, 0.0, 0.0, 0.0, 0.0, 0.0, 0.0, 0.0, 0.0,...   \n",
       "29006  [[0.0, 0.0, 0.0, 0.0, 0.0, 0.0, 0.0, 0.0, 0.0,...   \n",
       "29007  [[0.0, 0.0, 0.0, 0.0, 0.0, 0.0, 0.0, 0.0, 0.0,...   \n",
       "29008  [[0.0, 0.0, 0.0, 0.0, 0.0, 0.0, 0.0, 0.0, 0.0,...   \n",
       "29009  [[0.0, 0.0, 0.0, 0.0, 0.0, 0.0, 0.0, 0.0, 0.0,...   \n",
       "29010  [[0.0, 0.0, 0.0, 0.0, 0.0, 0.0, 0.0, 0.0, 0.0,...   \n",
       "29011  [[0.0, 0.0, 0.0, 0.0, 0.0, 0.0, 0.0, 0.0, 0.0,...   \n",
       "29012  [[0.0, 0.0, 0.0, 0.0, 0.0, 0.0, 0.0, 0.0, 0.0,...   \n",
       "29013  [[0.0, 0.0, 0.0, 0.0, 0.0, 0.0, 0.0, 0.0, 0.0,...   \n",
       "29014  [[0.0, 0.0, 0.0, 0.0, 0.0, 0.0, 0.0, 0.0, 0.0,...   \n",
       "29015  [[0.0, 0.0, 0.0, 0.0, 0.0, 0.0, 0.0, 0.0, 0.0,...   \n",
       "29016  [[0.0, 0.0, 0.0, 0.0, 0.0, 0.0, 0.0, 0.0, 0.0,...   \n",
       "29017  [[0.0, 0.0, 0.0, 0.0, 0.0, 0.0, 0.0, 0.0, 0.0,...   \n",
       "29018  [[0.0, 0.0, 0.0, 0.0, 0.0, 0.0, 0.0, 0.0, 0.0,...   \n",
       "29019  [[0.0, 0.0, 0.0, 0.0, 0.0, 0.0, 0.0, 0.0, 0.0,...   \n",
       "\n",
       "                                  actions  \\\n",
       "28995    [[0.9962831], [0.9721805], 0, 0]   \n",
       "28996    [[0.9962832], [0.9722403], 0, 0]   \n",
       "28997   [[0.99628323], [0.9722997], 0, 0]   \n",
       "28998    [[0.9962833], [0.9723587], 0, 0]   \n",
       "28999   [[0.99628335], [0.9724173], 0, 0]   \n",
       "29000   [[0.9890012], [0.51402503], 0, 0]   \n",
       "29001     [[0.9926641], [0.600715], 0, 0]   \n",
       "29002      [[0.9907057], [0.53947], 4, 0]   \n",
       "29003   [[0.99023265], [0.6435784], 0, 0]   \n",
       "29004  [[0.98990405], [0.73555267], 4, 0]   \n",
       "29005   [[0.99102753], [0.7603041], 4, 0]   \n",
       "29006    [[0.9913375], [0.7880045], 4, 0]   \n",
       "29007  [[0.99154955], [0.82044643], 4, 0]   \n",
       "29008    [[0.9918764], [0.8388082], 4, 0]   \n",
       "29009   [[0.9920918], [0.85067075], 4, 0]   \n",
       "29010  [[0.99221283], [0.86119765], 4, 0]   \n",
       "29011   [[0.99231863], [0.8699027], 4, 0]   \n",
       "29012      [[0.992406], [0.876848], 4, 0]   \n",
       "29013  [[0.99246764], [0.88281316], 4, 0]   \n",
       "29014   [[0.9925174], [0.88808846], 4, 0]   \n",
       "29015    [[0.9925615], [0.8928015], 4, 0]   \n",
       "29016   [[0.9926006], [0.89697224], 4, 0]   \n",
       "29017   [[0.99263597], [0.9005717], 4, 0]   \n",
       "29018    [[0.9926686], [0.9037069], 4, 3]   \n",
       "29019   [[0.99312985], [0.8810312], 4, 0]   \n",
       "\n",
       "                                                 rewards  \n",
       "28995  (-0.01, -0.01, 1.1030926445790252, 0.948532863...  \n",
       "28996  (-0.01, -0.01, 1.0648597749915099, 1.091513229...  \n",
       "28997  (-0.01, -0.01, 1.0593344556576763, 1.111573184...  \n",
       "28998  (-0.01, -0.01, 0.9422704177769771, 0.910832289...  \n",
       "28999  (-0.01, -0.01, 0.9937917896800508, 0.935102751...  \n",
       "29000  (-0.01, -0.01, 0.8135337356336352, 1.087240294...  \n",
       "29001  (-0.01, -0.01, 0.9461173798574248, 1.015075920...  \n",
       "29002               (-0.01, -0.01, 0.0, 1.0853648797314)  \n",
       "29003  (-0.01, -0.01, 0.7968035256457269, 0.976693299...  \n",
       "29004             (-0.01, -0.01, 0.0, 0.949714241234619)  \n",
       "29005            (-0.01, -0.01, 0.0, 1.1423954901626379)  \n",
       "29006            (-0.01, -0.01, 0.0, 1.0351553195791638)  \n",
       "29007              (-0.01, -0.01, 0.0, 1.02545389369104)  \n",
       "29008            (-0.01, -0.01, 0.0, 0.9970573216129814)  \n",
       "29009             (-0.01, -0.01, 0.0, 1.160025275927773)  \n",
       "29010            (-0.01, -0.01, 0.0, 0.9791062428431992)  \n",
       "29011             (-0.01, -0.01, 0.0, 1.033027773582546)  \n",
       "29012            (-0.01, -0.01, 0.0, 0.9168160348238545)  \n",
       "29013             (-0.01, -0.01, 0.0, 1.172551470549961)  \n",
       "29014             (-0.01, -0.01, 0.0, 1.081432847256791)  \n",
       "29015            (-0.01, -0.01, 0.0, 1.1132415422409363)  \n",
       "29016            (-0.01, -0.01, 0.0, 1.0445628098940882)  \n",
       "29017             (-0.01, -0.01, 0.0, 1.118675812852028)  \n",
       "29018  (0.9826686286926269, -0.01, 0.0, -0.2350385620...  \n",
       "29019             (-0.01, -0.01, 0.0, 1.009705409342217)  "
      ]
     },
     "execution_count": 27,
     "metadata": {},
     "output_type": "execute_result"
    }
   ],
   "source": [
    "data_df.iloc[28995:28995+25]"
   ]
  },
  {
   "cell_type": "code",
   "execution_count": 28,
   "metadata": {},
   "outputs": [],
   "source": [
    "rewards = np.array([x[2] for x in data])"
   ]
  },
  {
   "cell_type": "code",
   "execution_count": 29,
   "metadata": {},
   "outputs": [],
   "source": [
    "agent_rewards = sum([x[2:] for x in rewards])\n",
    "insurance_rewards = sum([x[:2] for x in rewards])"
   ]
  },
  {
   "cell_type": "code",
   "execution_count": 30,
   "metadata": {},
   "outputs": [
    {
     "name": "stdout",
     "output_type": "stream",
     "text": [
      "[20811.87576519 19303.75936446] [8745.16016951 -300.        ]\n"
     ]
    }
   ],
   "source": [
    "print(agent_rewards, insurance_rewards)"
   ]
  },
  {
   "cell_type": "code",
   "execution_count": 15,
   "metadata": {},
   "outputs": [],
   "source": [
    "insurance_costs = np.array([x[1][:2] for x in data])"
   ]
  },
  {
   "cell_type": "code",
   "execution_count": 16,
   "metadata": {},
   "outputs": [
    {
     "ename": "ValueError",
     "evalue": "The truth value of an array with more than one element is ambiguous. Use a.any() or a.all()",
     "output_type": "error",
     "traceback": [
      "\u001b[0;31m---------------------------------------------------------------------------\u001b[0m",
      "\u001b[0;31mValueError\u001b[0m                                Traceback (most recent call last)",
      "\u001b[0;32m<ipython-input-16-91bdb32a087d>\u001b[0m in \u001b[0;36m<module>\u001b[0;34m\u001b[0m\n\u001b[0;32m----> 1\u001b[0;31m \u001b[0mmin\u001b[0m\u001b[0;34m(\u001b[0m\u001b[0minsurance_costs\u001b[0m\u001b[0;34m)\u001b[0m\u001b[0;34m\u001b[0m\u001b[0;34m\u001b[0m\u001b[0m\n\u001b[0m",
      "\u001b[0;31mValueError\u001b[0m: The truth value of an array with more than one element is ambiguous. Use a.any() or a.all()"
     ]
    }
   ],
   "source": [
    "min(insurance_costs)"
   ]
  },
  {
   "cell_type": "code",
   "execution_count": 17,
   "metadata": {},
   "outputs": [],
   "source": [
    "ins_ind = np.argsort(insurance_costs)"
   ]
  },
  {
   "cell_type": "code",
   "execution_count": 13,
   "metadata": {},
   "outputs": [],
   "source": [
    "agent_actions = [1 if x[1][1] in [2,3] else 0 for x in data]"
   ]
  },
  {
   "cell_type": "code",
   "execution_count": 18,
   "metadata": {},
   "outputs": [],
   "source": [
    "agent_actions = np.array([[0 if x in [0,1] else 1 for x in y[1][2:]] for y in data])"
   ]
  },
  {
   "cell_type": "code",
   "execution_count": 22,
   "metadata": {},
   "outputs": [
    {
     "data": {
      "text/plain": [
       "<matplotlib.collections.PathCollection at 0x128294048>"
      ]
     },
     "execution_count": 22,
     "metadata": {},
     "output_type": "execute_result"
    },
    {
     "data": {
      "image/png": "[encoded data removed]",
      "text/plain": [
       "<Figure size 432x288 with 1 Axes>"
      ]
     },
     "metadata": {
      "needs_background": "light"
     },
     "output_type": "display_data"
    }
   ],
   "source": [
    "plt.scatter(sorted(insurance_costs.flatten()), agent_actions.flatten())"
   ]
  },
  {
   "cell_type": "code",
   "execution_count": 61,
   "metadata": {},
   "outputs": [
    {
     "name": "stderr",
     "output_type": "stream",
     "text": [
      "/Users/valentink/anaconda3/envs/rl_insurance/lib/python3.7/site-packages/ipykernel_launcher.py:1: VisibleDeprecationWarning: Passing `normed=True` on non-uniform bins has always been broken, and computes neither the probability density function nor the probability mass function. The result is only correct if the bins are uniform, when density=True will produce the same result anyway. The argument will be removed in a future version of numpy.\n",
      "  \"\"\"Entry point for launching an IPython kernel.\n",
      "/Users/valentink/anaconda3/envs/rl_insurance/lib/python3.7/site-packages/ipykernel_launcher.py:2: DeprecationWarning: Passing normed=False is deprecated, and has no effect. Consider passing the density argument instead.\n",
      "  \n"
     ]
    }
   ],
   "source": [
    "counts, bin_edges = np.histogram(insurance_costs, bins=40, normed=True)\n",
    "ag_counts, ag_edges = np.histogram(agent_actions, bins=40, normed=False)"
   ]
  },
  {
   "cell_type": "code",
   "execution_count": 62,
   "metadata": {},
   "outputs": [],
   "source": [
    "cdf = np.cumsum(counts)"
   ]
  },
  {
   "cell_type": "code",
   "execution_count": 63,
   "metadata": {},
   "outputs": [
    {
     "name": "stderr",
     "output_type": "stream",
     "text": [
      "/Users/valentink/anaconda3/envs/rl_insurance/lib/python3.7/site-packages/ipykernel_launcher.py:5: RuntimeWarning: invalid value encountered in double_scalars\n",
      "  \"\"\"\n"
     ]
    }
   ],
   "source": [
    "thresholds = np.linspace(min(insurance_costs),max(insurance_costs),100)\n",
    "nums_insured =[]\n",
    "for i in range(len(thresholds)-1):\n",
    "    ind = np.array(np.argwhere((thresholds[i]<insurance_costs) & (insurance_costs<thresholds[i+1])))\n",
    "    num_insured = np.sum([agent_actions[j[0]] for j in ind])/len(ind)\n",
    "    nums_insured.append(num_insured)"
   ]
  },
  {
   "cell_type": "code",
   "execution_count": 65,
   "metadata": {},
   "outputs": [
    {
     "data": {
      "text/plain": [
       "Text(0, 0.5, 'Percentage insured actions')"
      ]
     },
     "execution_count": 65,
     "metadata": {},
     "output_type": "execute_result"
    },
    {
     "data": {
      "image/png": "[encoded data removed]",
      "text/plain": [
       "<Figure size 432x288 with 1 Axes>"
      ]
     },
     "metadata": {
      "needs_background": "light"
     },
     "output_type": "display_data"
    }
   ],
   "source": [
    "plt.scatter(thresholds[1:], nums_insured)\n",
    "z=np.polyfit(sorted(insurance_costs), np.array(agent_actions), 1)\n",
    "p = np.poly1d(z)\n",
    "plt.plot(sorted(insurance_costs),p(sorted(insurance_costs)))\n",
    "plt.xlabel(\"Insurance cost\")\n",
    "plt.ylabel(\"Percentage insured actions\")"
   ]
  },
  {
   "cell_type": "code",
   "execution_count": 68,
   "metadata": {},
   "outputs": [
    {
     "data": {
      "text/plain": [
       "Text(0, 0.5, 'Action 1:insured 2:non-insured')"
      ]
     },
     "execution_count": 68,
     "metadata": {},
     "output_type": "execute_result"
    },
    {
     "data": {
      "image/png": "[encoded data removed]",
      "text/plain": [
       "<Figure size 432x288 with 1 Axes>"
      ]
     },
     "metadata": {
      "needs_background": "light"
     },
     "output_type": "display_data"
    }
   ],
   "source": [
    "plt.scatter(sorted(insurance_costs), agent_actions)\n",
    "plt.plot(sorted(insurance_costs),p(sorted(insurance_costs)))\n",
    "plt.title('Actions in relation to insurance cost')\n",
    "plt.xlabel('Insurance cost')\n",
    "plt.ylabel('Action 1:insured 2:non-insured')"
   ]
  },
  {
   "cell_type": "code",
   "execution_count": null,
   "metadata": {},
   "outputs": [],
   "source": []
  }
 ],
 "metadata": {
  "kernelspec": {
   "display_name": "Python 3",
   "language": "python",
   "name": "python3"
  },
  "language_info": {
   "codemirror_mode": {
    "name": "ipython",
    "version": 3
   },
   "file_extension": ".py",
   "mimetype": "text/x-python",
   "name": "python",
   "nbconvert_exporter": "python",
   "pygments_lexer": "ipython3",
   "version": "3.7.3"
  },
  "widgets": {
   "state": {},
   "version": "1.1.2"
  }
 },
 "nbformat": 4,
 "nbformat_minor": 2
}
